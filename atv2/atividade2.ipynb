{
 "cells": [
  {
   "cell_type": "code",
   "execution_count": 1,
   "id": "3547322e",
   "metadata": {},
   "outputs": [],
   "source": [
    "from qiskit import QuantumRegister, QuantumCircuit, ClassicalRegister, Aer\n",
    "from qiskit.quantum_info import Statevector\n",
    "from qiskit.visualization import plot_bloch_vector\n",
    "import numpy as np"
   ]
  },
  {
   "cell_type": "code",
   "execution_count": 2,
   "id": "52a08731",
   "metadata": {},
   "outputs": [],
   "source": [
    "PI = np.pi\n",
    "n5 = 4\n",
    "n6 = 5\n",
    "n7 = 0"
   ]
  },
  {
   "cell_type": "code",
   "execution_count": 3,
   "id": "976ea8e0",
   "metadata": {},
   "outputs": [
    {
     "data": {
      "text/latex": [
       "$$0.164398987305 |0\\rangle+(-0.946438039133 + 0.277899282214 i) |1\\rangle$$"
      ],
      "text/plain": [
       "<IPython.core.display.Latex object>"
      ]
     },
     "execution_count": 3,
     "metadata": {},
     "output_type": "execute_result"
    }
   ],
   "source": [
    "prob0 = (n7+1)\n",
    "prob1 = np.exp(1j*2*(n5+1)*PI/11)*(n6+1)\n",
    "norm = np.linalg.norm(np.array([prob0, prob1]))\n",
    "q0a = Statevector([prob0/norm, prob1/norm])\n",
    "q1a = Statevector([-np.conj(prob1/norm), prob0/norm])\n",
    "q0a.draw(\"latex\")\n"
   ]
  },
  {
   "cell_type": "code",
   "execution_count": 4,
   "id": "9bf4b7e0",
   "metadata": {},
   "outputs": [
    {
     "data": {
      "text/latex": [
       "$$(0.946438039133 + 0.277899282214 i) |0\\rangle+0.164398987305 |1\\rangle$$"
      ],
      "text/plain": [
       "<IPython.core.display.Latex object>"
      ]
     },
     "execution_count": 4,
     "metadata": {},
     "output_type": "execute_result"
    }
   ],
   "source": [
    "q1a.draw(\"latex\")"
   ]
  },
  {
   "cell_type": "code",
   "execution_count": 5,
   "id": "939958fd",
   "metadata": {},
   "outputs": [
    {
     "name": "stdout",
     "output_type": "stream",
     "text": [
      "True\n"
     ]
    }
   ],
   "source": [
    "qc = QuantumCircuit(2)\n",
    "sv = np.array([q0a[0],q0a[1], q1a[0], q1a[1]])\n",
    "sv /= np.linalg.norm(sv)\n",
    "print(q1a.is_valid())"
   ]
  },
  {
   "cell_type": "code",
   "execution_count": 6,
   "id": "dea01278",
   "metadata": {},
   "outputs": [
    {
     "data": {
      "text/html": [
       "<pre style=\"word-wrap: normal;white-space: pre;background: #fff0;line-height: 1.1;font-family: &quot;Courier New&quot;,Courier,monospace\">     ┌───────────────────────────────────────────────────────────────┐\n",
       "q_0: ┤0                                                              ├\n",
       "     │  Initialize(0.11625,-0.66923+0.1965j,0.66923+0.1965j,0.11625) │\n",
       "q_1: ┤1                                                              ├\n",
       "     └───────────────────────────────────────────────────────────────┘</pre>"
      ],
      "text/plain": [
       "     ┌───────────────────────────────────────────────────────────────┐\n",
       "q_0: ┤0                                                              ├\n",
       "     │  Initialize(0.11625,-0.66923+0.1965j,0.66923+0.1965j,0.11625) │\n",
       "q_1: ┤1                                                              ├\n",
       "     └───────────────────────────────────────────────────────────────┘"
      ]
     },
     "execution_count": 6,
     "metadata": {},
     "output_type": "execute_result"
    }
   ],
   "source": [
    "qc.initialize(sv, qc.qubits)\n",
    "qc.draw()"
   ]
  },
  {
   "cell_type": "code",
   "execution_count": 7,
   "id": "bddf556d",
   "metadata": {},
   "outputs": [
    {
     "data": {
      "text/html": [
       "<pre style=\"word-wrap: normal;white-space: pre;background: #fff0;line-height: 1.1;font-family: &quot;Courier New&quot;,Courier,monospace\">     ┌───────────────────────────────────────────────────────────────┐┌───┐\n",
       "q_0: ┤0                                                              ├┤ X ├\n",
       "     │  Initialize(0.11625,-0.66923+0.1965j,0.66923+0.1965j,0.11625) │├───┤\n",
       "q_1: ┤1                                                              ├┤ Y ├\n",
       "     └───────────────────────────────────────────────────────────────┘└───┘</pre>"
      ],
      "text/plain": [
       "     ┌───────────────────────────────────────────────────────────────┐┌───┐\n",
       "q_0: ┤0                                                              ├┤ X ├\n",
       "     │  Initialize(0.11625,-0.66923+0.1965j,0.66923+0.1965j,0.11625) │├───┤\n",
       "q_1: ┤1                                                              ├┤ Y ├\n",
       "     └───────────────────────────────────────────────────────────────┘└───┘"
      ]
     },
     "execution_count": 7,
     "metadata": {},
     "output_type": "execute_result"
    }
   ],
   "source": []
  },
  {
   "cell_type": "code",
   "execution_count": 8,
   "id": "6492ba29",
   "metadata": {},
   "outputs": [
    {
     "name": "stdout",
     "output_type": "stream",
     "text": [
      "(1+0j)\n"
     ]
    }
   ],
   "source": []
  },
  {
   "cell_type": "code",
   "execution_count": null,
   "id": "50d35246",
   "metadata": {},
   "outputs": [],
   "source": []
  }
 ],
 "metadata": {
  "kernelspec": {
   "display_name": "Python 3 (ipykernel)",
   "language": "python",
   "name": "python3"
  },
  "language_info": {
   "codemirror_mode": {
    "name": "ipython",
    "version": 3
   },
   "file_extension": ".py",
   "mimetype": "text/x-python",
   "name": "python",
   "nbconvert_exporter": "python",
   "pygments_lexer": "ipython3",
   "version": "3.10.6"
  }
 },
 "nbformat": 4,
 "nbformat_minor": 5
}
