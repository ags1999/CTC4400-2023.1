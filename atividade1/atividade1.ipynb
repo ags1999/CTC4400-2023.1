{
 "cells": [
  {
   "cell_type": "code",
   "execution_count": 1,
   "id": "ce69e7eb",
   "metadata": {},
   "outputs": [],
   "source": [
    "from qiskit import QuantumCircuit, transpile\n",
    "from qiskit_aer import AerSimulator\n",
    "from qiskit.visualization import plot_histogram\n",
    "\n",
    "from qiskit.visualization import plot_bloch_vector, plot_bloch_multivector\n",
    "import numpy as np\n",
    "import math"
   ]
  },
  {
   "cell_type": "code",
   "execution_count": 2,
   "id": "8d5e8d77",
   "metadata": {},
   "outputs": [],
   "source": [
    "def qb_to_coord(v0, v1):\n",
    "    theta = np.arccos(v0)*2\n",
    "    phi = np.angle(v1/np.sin(theta/2))\n",
    "    return [1, float(theta), phi]\n",
    "\n"
   ]
  },
  {
   "cell_type": "code",
   "execution_count": 3,
   "id": "4857596e",
   "metadata": {},
   "outputs": [],
   "source": [
    "PI = np.pi\n",
    "n5 = 4\n",
    "n6 = 5\n",
    "n7 = 0"
   ]
  },
  {
   "cell_type": "code",
   "execution_count": 4,
   "id": "8270f970",
   "metadata": {},
   "outputs": [
    {
     "name": "stdout",
     "output_type": "stream",
     "text": [
      "[0.59522755+0.j         0.67599533+0.43443582j]\n",
      "[1, 1.866495057312408, 0.5711986642890532]\n"
     ]
    },
    {
     "name": "stderr",
     "output_type": "stream",
     "text": [
      "/tmp/ipykernel_11915/2320921079.py:4: ComplexWarning: Casting complex values to real discards the imaginary part\n",
      "  return [1, float(theta), phi]\n"
     ]
    }
   ],
   "source": [
    "t0 = (2/3)*(n5+1)\n",
    "t1 = (3/4)*(n6+1)*np.exp(1j*2*(n7+1)*PI/11)\n",
    "target = np.array([t0,t1])\n",
    "norm = np.linalg.norm(target)\n",
    "target_n = target/norm\n",
    "coord = qb_to_coord(target_n[0], target_n[1])\n",
    "print(target_n)\n",
    "print(coord)\n"
   ]
  },
  {
   "cell_type": "code",
   "execution_count": 5,
   "id": "b1019cf6",
   "metadata": {},
   "outputs": [],
   "source": [
    "#plot_bloch_vector(coord, coord_type = \"spherical\")"
   ]
  },
  {
   "cell_type": "code",
   "execution_count": 6,
   "id": "454fdb93",
   "metadata": {},
   "outputs": [],
   "source": [
    "from qiskit import Aer, QuantumCircuit"
   ]
  },
  {
   "cell_type": "code",
   "execution_count": 7,
   "id": "2f942388",
   "metadata": {},
   "outputs": [
    {
     "data": {
      "image/png": "[encoded data removed]",
      "text/plain": [
       "<Figure size 700x500 with 1 Axes>"
      ]
     },
     "execution_count": 7,
     "metadata": {},
     "output_type": "execute_result"
    }
   ],
   "source": [
    "circ = QuantumCircuit(2)\n",
    "circ.rx(coord[1], 0)\n",
    "circ.rz(coord[2], 0)\n",
    "circ.measure_all()\n",
    "\n",
    "# Transpile for simulator\n",
    "simulator = Aer.get_backend('aer_simulator')\n",
    "circ = transpile(circ, simulator)\n",
    "\n",
    "# Run and get counts\n",
    "result = simulator.run(circ).result()\n",
    "counts = result.get_counts(circ)\n",
    "plot_histogram(counts, title='Bell-State counts')"
   ]
  },
  {
   "cell_type": "code",
   "execution_count": null,
   "id": "75a82dd2",
   "metadata": {},
   "outputs": [],
   "source": []
  },
  {
   "cell_type": "code",
   "execution_count": null,
   "id": "383baea6",
   "metadata": {},
   "outputs": [],
   "source": []
  },
  {
   "cell_type": "code",
   "execution_count": null,
   "id": "7f26f5c3",
   "metadata": {},
   "outputs": [],
   "source": []
  }
 ],
 "metadata": {
  "kernelspec": {
   "display_name": "Python 3 (ipykernel)",
   "language": "python",
   "name": "python3"
  },
  "language_info": {
   "codemirror_mode": {
    "name": "ipython",
    "version": 3
   },
   "file_extension": ".py",
   "mimetype": "text/x-python",
   "name": "python",
   "nbconvert_exporter": "python",
   "pygments_lexer": "ipython3",
   "version": "3.10.6"
  }
 },
 "nbformat": 4,
 "nbformat_minor": 5
}
